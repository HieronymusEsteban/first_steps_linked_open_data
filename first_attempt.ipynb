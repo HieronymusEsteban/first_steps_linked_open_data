{
 "cells": [
  {
   "cell_type": "raw",
   "id": "4a9b2e78-fa06-48c8-883c-4bccd7a795e7",
   "metadata": {},
   "source": [
    "import pandas as pd\n",
    "import os\n",
    "\n",
    "# Define the data as a list of dictionaries\n",
    "data = [\n",
    "    {\"Subject\": \"http://portacultura.gr.ch/records/RMC-125486\", \"Predicate\": \"rdf:type\", \"Object\": \"<http://schema.org/CreativeWork>\"},\n",
    "    {\"Subject\": \"http://portacultura.gr.ch/records/RMC-125486\", \"Predicate\": \"schema:name\", \"Object\": \"Die Ermordung des Georg (Jörg, Jürg) Jenatsch\"},\n",
    "    {\"Subject\": \"http://portacultura.gr.ch/records/RMC-125486\", \"Predicate\": \"schema:about\", \"Object\": \"http://dbpedia.org/resource/Jürg_Jenatsch\"},\n",
    "    {\"Subject\": \"http://dbpedia.org/resource/Jürg_Jenatsch\", \"Predicate\": \"rdf:type\", \"Object\": \"<http://schema.org/Person>\"},\n",
    "    {\"Subject\": \"http://dbpedia.org/resource/Jürg_Jenatsch\", \"Predicate\": \"schema:deathDate\", \"Object\": \"1639-01-24\"},\n",
    "    {\"Subject\": \"http://dbpedia.org/resource/Jürg_Jenatsch\", \"Predicate\": \"schema:deathPlace\", \"Object\": \"http://dbpedia.org/resource/Chur\"},\n",
    "    {\"Subject\": \"http://portacultura.gr.ch/records/RMC-125486\", \"Predicate\": \"schema:creator\", \"Object\": \"Bong 17 R.\"},\n",
    "    {\"Subject\": \"http://portacultura.gr.ch/records/RMC-125486\", \"Predicate\": \"schema:material\", \"Object\": \"Holzstich auf Papier\"},\n",
    "    {\"Subject\": \"http://dbpedia.org/resource/Jürg_Jenatsch\", \"Predicate\": \"schema:relatedTo\", \"Object\": \"Bündner Wirren\"}\n",
    "]\n",
    "\n",
    "# Create the DataFrame\n",
    "df = pd.DataFrame(data)\n",
    "\n",
    "# Display the DataFrame\n",
    "print(df)"
   ]
  },
  {
   "cell_type": "code",
   "execution_count": 27,
   "id": "75c0b82a-937c-4bdc-86c0-b43e5f116bf6",
   "metadata": {},
   "outputs": [
    {
     "name": "stdout",
     "output_type": "stream",
     "text": [
      "                                        Subject          Predicate  \\\n",
      "0  http://portacultura.gr.ch/records/RMC-125486           rdf:type   \n",
      "1  http://portacultura.gr.ch/records/RMC-125486        schema:name   \n",
      "2  http://portacultura.gr.ch/records/RMC-125486       schema:about   \n",
      "3     http://dbpedia.org/resource/Jürg_Jenatsch           rdf:type   \n",
      "4     http://dbpedia.org/resource/Jürg_Jenatsch   schema:deathDate   \n",
      "5     http://dbpedia.org/resource/Jürg_Jenatsch  schema:deathPlace   \n",
      "6  http://portacultura.gr.ch/records/RMC-125486     schema:creator   \n",
      "7  http://portacultura.gr.ch/records/RMC-125486    schema:material   \n",
      "8     http://dbpedia.org/resource/Jürg_Jenatsch   schema:relatedTo   \n",
      "\n",
      "                                          Object  \n",
      "0                 http://schema.org/CreativeWork  \n",
      "1  Die Ermordung des Georg (Jörg, Jürg) Jenatsch  \n",
      "2      http://dbpedia.org/resource/Jürg_Jenatsch  \n",
      "3                       http://schema.org/Person  \n",
      "4                                     1639-01-24  \n",
      "5               http://dbpedia.org/resource/Chur  \n",
      "6                                     Bong 17 R.  \n",
      "7                           Holzstich auf Papier  \n",
      "8                                 Bündner Wirren  \n"
     ]
    }
   ],
   "source": [
    "import pandas as pd\n",
    "import os\n",
    "\n",
    "# Define the data as a list of dictionaries\n",
    "data = [\n",
    "    {\"Subject\": \"http://portacultura.gr.ch/records/RMC-125486\", \n",
    "     \"Predicate\": \"rdf:type\", \n",
    "     \"Object\": \"http://schema.org/CreativeWork\"},  # Object as URI\n",
    "    {\"Subject\": \"http://portacultura.gr.ch/records/RMC-125486\", \n",
    "     \"Predicate\": \"schema:name\", \n",
    "     \"Object\": \"Die Ermordung des Georg (Jörg, Jürg) Jenatsch\"},  # Object as Literal\n",
    "    {\"Subject\": \"http://portacultura.gr.ch/records/RMC-125486\", \n",
    "     \"Predicate\": \"schema:about\", \n",
    "     \"Object\": \"http://dbpedia.org/resource/Jürg_Jenatsch\"},  # Object as URI\n",
    "    {\"Subject\": \"http://dbpedia.org/resource/Jürg_Jenatsch\", \n",
    "     \"Predicate\": \"rdf:type\", \n",
    "     \"Object\": \"http://schema.org/Person\"},  # Object as URI\n",
    "    {\"Subject\": \"http://dbpedia.org/resource/Jürg_Jenatsch\", \n",
    "     \"Predicate\": \"schema:deathDate\", \n",
    "     \"Object\": \"1639-01-24\"},  # Object as Literal\n",
    "    {\"Subject\": \"http://dbpedia.org/resource/Jürg_Jenatsch\", \n",
    "     \"Predicate\": \"schema:deathPlace\", \n",
    "     \"Object\": \"http://dbpedia.org/resource/Chur\"},  # Object as URI\n",
    "    {\"Subject\": \"http://portacultura.gr.ch/records/RMC-125486\", \n",
    "     \"Predicate\": \"schema:creator\", \n",
    "     \"Object\": \"Bong 17 R.\"},  # Object as Literal\n",
    "    {\"Subject\": \"http://portacultura.gr.ch/records/RMC-125486\", \n",
    "     \"Predicate\": \"schema:material\", \n",
    "     \"Object\": \"Holzstich auf Papier\"},  # Object as Literal\n",
    "    {\"Subject\": \"http://dbpedia.org/resource/Jürg_Jenatsch\", \n",
    "     \"Predicate\": \"schema:relatedTo\", \n",
    "     \"Object\": \"Bündner Wirren\"}  # Object as Literal\n",
    "]\n",
    "\n",
    "# Create the DataFrame\n",
    "df = pd.DataFrame(data)\n",
    "\n",
    "# Display the DataFrame\n",
    "print(df)\n"
   ]
  },
  {
   "cell_type": "code",
   "execution_count": 1,
   "id": "e85401fb-db64-484f-914f-0e2936bd2f6f",
   "metadata": {},
   "outputs": [
    {
     "name": "stdout",
     "output_type": "stream",
     "text": [
      "                                        Subject Predicate  \\\n",
      "0  http://portacultura.gr.ch/records/RMC-125486  rdf:type   \n",
      "\n",
      "                           Object  \n",
      "0  http://schema.org/CreativeWork  \n"
     ]
    }
   ],
   "source": [
    "import pandas as pd\n",
    "import os\n",
    "\n",
    "# Define the data as a list of dictionaries\n",
    "data = [\n",
    "    {\"Subject\": \"http://portacultura.gr.ch/records/RMC-125486\", \n",
    "     \"Predicate\": \"rdf:type\", \n",
    "     \"Object\": \"http://schema.org/CreativeWork\"},  # Object as URI\n",
    "]\n",
    "\n",
    "# Create the DataFrame\n",
    "df = pd.DataFrame(data)\n",
    "\n",
    "# Display the DataFrame\n",
    "print(df)\n"
   ]
  },
  {
   "cell_type": "code",
   "execution_count": 28,
   "id": "b6d8e908-1be5-4eb1-8666-6d8a9f69a428",
   "metadata": {},
   "outputs": [
    {
     "data": {
      "text/plain": [
       "'/Users/stephanehess/Documents/linked_data/project/data'"
      ]
     },
     "execution_count": 28,
     "metadata": {},
     "output_type": "execute_result"
    }
   ],
   "source": [
    "os.getcwd()"
   ]
  },
  {
   "cell_type": "code",
   "execution_count": 29,
   "id": "cf373ca9-be97-425c-b23a-c78f0012aefd",
   "metadata": {},
   "outputs": [],
   "source": [
    "os.chdir('/Users/stephanehess/Documents/linked_data/project/data')"
   ]
  },
  {
   "cell_type": "code",
   "execution_count": 30,
   "id": "ed6c6da5-8e1f-480b-847a-80ad5745d2c3",
   "metadata": {},
   "outputs": [],
   "source": [
    "from rdflib import Graph, Literal, RDF, URIRef, Namespace\n",
    "\n",
    "# Create an RDF graph\n",
    "g = Graph()\n",
    "\n",
    "# Define Namespaces\n",
    "EX = Namespace(\"http://example.org/\")  # Your custom namespace\n",
    "SCHEMA = Namespace(\"http://schema.org/\")  # Standard schema.org namespace\n",
    "g.bind(\"ex\", EX)\n",
    "g.bind(\"schema\", SCHEMA)"
   ]
  },
  {
   "cell_type": "code",
   "execution_count": 31,
   "id": "33b7aa9d-5ad9-4de2-8c1b-bc42a893214b",
   "metadata": {},
   "outputs": [
    {
     "data": {
      "text/plain": [
       "Namespace('http://example.org/')"
      ]
     },
     "execution_count": 31,
     "metadata": {},
     "output_type": "execute_result"
    }
   ],
   "source": [
    "EX"
   ]
  },
  {
   "cell_type": "raw",
   "id": "091b7ad2-7f5d-4189-9a5c-1780746634ec",
   "metadata": {},
   "source": [
    "# Iterate through the data and add triples to the graph\n",
    "for item in data:\n",
    "    subject = URIRef(item[\"Subject\"])  # Correct key for the subject\n",
    "    predicate = URIRef(item[\"Predicate\"])  # Correct key for the predicate\n",
    "    obj = (\n",
    "        URIRef(item[\"Object\"])  # If Object is a URI\n",
    "        if item[\"Object\"].startswith(\"http://\") or item[\"Object\"].startswith(\"https://\")\n",
    "        else Literal(item[\"Object\"])  # Otherwise, treat it as a literal\n",
    "    )\n",
    "    g.add((subject, predicate, obj))\n",
    "\n",
    "# Save RDF graph to a file\n",
    "g.serialize(\"libraries.ttl\", format=\"turtle\")\n",
    "print(\"RDF dataset created and saved as 'libraries.ttl'.\")"
   ]
  },
  {
   "cell_type": "code",
   "execution_count": 32,
   "id": "1fa8952c-41bf-493d-acbb-d75fa1b47a79",
   "metadata": {},
   "outputs": [
    {
     "data": {
      "text/plain": [
       "'/Users/stephanehess/Documents/linked_data/project/data'"
      ]
     },
     "execution_count": 32,
     "metadata": {},
     "output_type": "execute_result"
    }
   ],
   "source": [
    "os.getcwd()"
   ]
  },
  {
   "cell_type": "code",
   "execution_count": 33,
   "id": "7d9cf5c0-e8ce-4729-89f0-36eeb06e8b87",
   "metadata": {},
   "outputs": [
    {
     "name": "stdout",
     "output_type": "stream",
     "text": [
      "RDF dataset created and saved as 'public_dataset.ttl'.\n"
     ]
    }
   ],
   "source": [
    "# Add triples to the graph\n",
    "for item in data:\n",
    "    subject = URIRef(item[\"Subject\"])\n",
    "    predicate = URIRef(item[\"Predicate\"])\n",
    "    obj = (\n",
    "        URIRef(item[\"Object\"])\n",
    "        if item[\"Object\"].startswith(\"http://\") or item[\"Object\"].startswith(\"https://\")\n",
    "        else Literal(item[\"Object\"])\n",
    "    )\n",
    "    g.add((subject, predicate, obj))\n",
    "\n",
    "# Save the graph\n",
    "g.serialize(\"public_dataset.ttl\", format=\"turtle\")\n",
    "print(\"RDF dataset created and saved as 'public_dataset.ttl'.\")"
   ]
  },
  {
   "cell_type": "code",
   "execution_count": 34,
   "id": "854bbb5f-1a3e-483c-8c71-a840bfa29246",
   "metadata": {},
   "outputs": [
    {
     "data": {
      "text/plain": [
       "'/Users/stephanehess/Documents/linked_data/project/data'"
      ]
     },
     "execution_count": 34,
     "metadata": {},
     "output_type": "execute_result"
    }
   ],
   "source": [
    "os.getcwd()"
   ]
  },
  {
   "cell_type": "code",
   "execution_count": 35,
   "id": "a354c643-17bd-4c0f-aaa9-0fc5e8af5d3d",
   "metadata": {},
   "outputs": [
    {
     "data": {
      "text/plain": [
       "['public_dataset.ttl',\n",
       " 'libraries.ttl',\n",
       " 'persons.csv',\n",
       " 'creative_works.csv',\n",
       " 'relationships.csv']"
      ]
     },
     "execution_count": 35,
     "metadata": {},
     "output_type": "execute_result"
    }
   ],
   "source": [
    "os.listdir()"
   ]
  },
  {
   "cell_type": "code",
   "execution_count": 38,
   "id": "c00d4c03-eeaa-4411-8669-227f0ba016af",
   "metadata": {},
   "outputs": [
    {
     "name": "stdout",
     "output_type": "stream",
     "text": [
      "CreativeWorks and their names:\n",
      "(rdflib.term.URIRef('http://dbpedia.org/resource/Jürg_Jenatsch'), rdflib.term.URIRef('schema:deathPlace'), rdflib.term.URIRef('http://dbpedia.org/resource/Chur'))\n",
      "(rdflib.term.URIRef('http://portacultura.gr.ch/records/RMC-125486'), rdflib.term.URIRef('schema:name'), rdflib.term.Literal('Die Ermordung des Georg (Jörg, Jürg) Jenatsch'))\n",
      "(rdflib.term.URIRef('http://portacultura.gr.ch/records/RMC-125486'), rdflib.term.URIRef('schema:about'), rdflib.term.URIRef('http://dbpedia.org/resource/Jürg_Jenatsch'))\n",
      "(rdflib.term.URIRef('http://portacultura.gr.ch/records/RMC-125486'), rdflib.term.URIRef('rdf:type'), rdflib.term.URIRef('http://schema.org/CreativeWork'))\n",
      "(rdflib.term.URIRef('http://dbpedia.org/resource/Jürg_Jenatsch'), rdflib.term.URIRef('schema:deathDate'), rdflib.term.Literal('1639-01-24'))\n",
      "(rdflib.term.URIRef('http://dbpedia.org/resource/Jürg_Jenatsch'), rdflib.term.URIRef('schema:relatedTo'), rdflib.term.Literal('Bündner Wirren'))\n",
      "(rdflib.term.URIRef('http://portacultura.gr.ch/records/RMC-125486'), rdflib.term.URIRef('schema:creator'), rdflib.term.Literal('Bong 17 R.'))\n",
      "(rdflib.term.URIRef('http://dbpedia.org/resource/Jürg_Jenatsch'), rdflib.term.URIRef('rdf:type'), rdflib.term.URIRef('http://schema.org/Person'))\n",
      "(rdflib.term.URIRef('http://portacultura.gr.ch/records/RMC-125486'), rdflib.term.URIRef('schema:material'), rdflib.term.Literal('Holzstich auf Papier'))\n"
     ]
    }
   ],
   "source": [
    "from rdflib import Graph, Namespace\n",
    "\n",
    "# Load RDF graph\n",
    "g = Graph()\n",
    "g.parse(\"public_dataset.ttl\", format=\"turtle\")\n",
    "\n",
    "# Define namespaces\n",
    "#SCHEMA = Namespace(\"http://schema.org/\")\n",
    "#RDF = Namespace(\"http://www.w3.org/1999/02/22-rdf-syntax-ns#\")\n",
    "\n",
    "# SPARQL query to retrieve CreativeWork and its name\n",
    "query1 = \"\"\"\n",
    "SELECT ?subject ?predicate ?object\n",
    "WHERE {\n",
    "    ?subject ?predicate ?object .\n",
    "}\n",
    "LIMIT 10\n",
    "\n",
    "\"\"\"\n",
    "\n",
    "query2 = \"\"\"\n",
    "SELECT ?subject\n",
    "WHERE {\n",
    "    ?subject <http://www.w3.org/1999/02/22-rdf-syntax-ns#type> <http://schema.org/CreativeWork> .\n",
    "}\n",
    "\n",
    "\"\"\"\n",
    "\n",
    "query3 = \"\"\"\n",
    "SELECT ?subject ?predicate ?object\n",
    "WHERE {\n",
    "    ?subject rdf:type schema:CreativeWork .\n",
    "}\n",
    "LIMIT 10\n",
    "\n",
    "\"\"\"\n",
    "\n",
    "# Execute the query\n",
    "results1 = g.query(query1)\n",
    "\n",
    "results2 = g.query(query2)\n",
    "\n",
    "results3 = g.query(query3)\n",
    "\n",
    "# Display results\n",
    "print(\"CreativeWorks and their names:\")\n",
    "for row in results1:\n",
    "    print(row)\n"
   ]
  },
  {
   "cell_type": "code",
   "execution_count": 39,
   "id": "5965e799-08d3-4ba9-a17d-462820e878ad",
   "metadata": {},
   "outputs": [
    {
     "data": {
      "text/plain": [
       "9"
      ]
     },
     "execution_count": 39,
     "metadata": {},
     "output_type": "execute_result"
    }
   ],
   "source": [
    "len(results1)"
   ]
  },
  {
   "cell_type": "code",
   "execution_count": 40,
   "id": "8a94bbb1-f45b-41cb-8730-21e96adeb434",
   "metadata": {},
   "outputs": [
    {
     "name": "stdout",
     "output_type": "stream",
     "text": [
      "\n",
      "\n",
      "http://dbpedia.org/resource/Jürg_Jenatsch\n",
      "schema:deathPlace\n",
      "http://dbpedia.org/resource/Chur\n",
      "\n",
      "\n",
      "http://portacultura.gr.ch/records/RMC-125486\n",
      "schema:name\n",
      "Die Ermordung des Georg (Jörg, Jürg) Jenatsch\n",
      "\n",
      "\n",
      "http://portacultura.gr.ch/records/RMC-125486\n",
      "schema:about\n",
      "http://dbpedia.org/resource/Jürg_Jenatsch\n",
      "\n",
      "\n",
      "http://portacultura.gr.ch/records/RMC-125486\n",
      "rdf:type\n",
      "http://schema.org/CreativeWork\n",
      "\n",
      "\n",
      "http://dbpedia.org/resource/Jürg_Jenatsch\n",
      "schema:deathDate\n",
      "1639-01-24\n",
      "\n",
      "\n",
      "http://dbpedia.org/resource/Jürg_Jenatsch\n",
      "schema:relatedTo\n",
      "Bündner Wirren\n",
      "\n",
      "\n",
      "http://portacultura.gr.ch/records/RMC-125486\n",
      "schema:creator\n",
      "Bong 17 R.\n",
      "\n",
      "\n",
      "http://dbpedia.org/resource/Jürg_Jenatsch\n",
      "rdf:type\n",
      "http://schema.org/Person\n",
      "\n",
      "\n",
      "http://portacultura.gr.ch/records/RMC-125486\n",
      "schema:material\n",
      "Holzstich auf Papier\n"
     ]
    }
   ],
   "source": [
    "for subj, pred, obj in g:\n",
    "    print('\\n')\n",
    "    print(subj)\n",
    "    print(pred)\n",
    "    print(obj)"
   ]
  },
  {
   "cell_type": "code",
   "execution_count": null,
   "id": "189db08b-126b-40e1-8d06-79eed8edb0c5",
   "metadata": {},
   "outputs": [],
   "source": []
  },
  {
   "cell_type": "markdown",
   "id": "b0e67ca6-c76c-4e72-8f1e-55742dd1936a",
   "metadata": {},
   "source": [
    "# Working queries:"
   ]
  },
  {
   "cell_type": "code",
   "execution_count": 41,
   "id": "cb30d27d-90fa-42f7-8ae5-0ad016ab0285",
   "metadata": {},
   "outputs": [
    {
     "name": "stdout",
     "output_type": "stream",
     "text": [
      "(rdflib.term.URIRef('http://dbpedia.org/resource/Jürg_Jenatsch'), rdflib.term.URIRef('schema:deathPlace'), rdflib.term.URIRef('http://dbpedia.org/resource/Chur'))\n",
      "(rdflib.term.URIRef('http://portacultura.gr.ch/records/RMC-125486'), rdflib.term.URIRef('schema:name'), rdflib.term.Literal('Die Ermordung des Georg (Jörg, Jürg) Jenatsch'))\n",
      "(rdflib.term.URIRef('http://portacultura.gr.ch/records/RMC-125486'), rdflib.term.URIRef('schema:about'), rdflib.term.URIRef('http://dbpedia.org/resource/Jürg_Jenatsch'))\n",
      "(rdflib.term.URIRef('http://portacultura.gr.ch/records/RMC-125486'), rdflib.term.URIRef('rdf:type'), rdflib.term.URIRef('http://schema.org/CreativeWork'))\n",
      "(rdflib.term.URIRef('http://dbpedia.org/resource/Jürg_Jenatsch'), rdflib.term.URIRef('schema:deathDate'), rdflib.term.Literal('1639-01-24'))\n",
      "(rdflib.term.URIRef('http://dbpedia.org/resource/Jürg_Jenatsch'), rdflib.term.URIRef('schema:relatedTo'), rdflib.term.Literal('Bündner Wirren'))\n",
      "(rdflib.term.URIRef('http://portacultura.gr.ch/records/RMC-125486'), rdflib.term.URIRef('schema:creator'), rdflib.term.Literal('Bong 17 R.'))\n",
      "(rdflib.term.URIRef('http://dbpedia.org/resource/Jürg_Jenatsch'), rdflib.term.URIRef('rdf:type'), rdflib.term.URIRef('http://schema.org/Person'))\n",
      "(rdflib.term.URIRef('http://portacultura.gr.ch/records/RMC-125486'), rdflib.term.URIRef('schema:material'), rdflib.term.Literal('Holzstich auf Papier'))\n"
     ]
    }
   ],
   "source": [
    "query = \"\"\"\n",
    "    SELECT ?s ?p ?o\n",
    "    WHERE {\n",
    "        ?s ?p ?o .\n",
    "    }\n",
    "    LIMIT 10\n",
    "\"\"\"\n",
    "results = g.query(query)\n",
    "for row in results:\n",
    "    print(row)"
   ]
  },
  {
   "cell_type": "code",
   "execution_count": 43,
   "id": "f782f917-cc94-4d67-bd49-4bd4c8497fd9",
   "metadata": {},
   "outputs": [
    {
     "name": "stdout",
     "output_type": "stream",
     "text": [
      "@prefix ns1: <schema:> .\n",
      "@prefix ns2: <rdf:> .\n",
      "@prefix schema1: <http://schema.org/> .\n",
      "\n",
      "<http://portacultura.gr.ch/records/RMC-125486> ns2:type schema1:CreativeWork ;\n",
      "    ns1:about <http://dbpedia.org/resource/Jürg_Jenatsch> ;\n",
      "    ns1:creator \"Bong 17 R.\" ;\n",
      "    ns1:material \"Holzstich auf Papier\" ;\n",
      "    ns1:name \"Die Ermordung des Georg (Jörg, Jürg) Jenatsch\" .\n",
      "\n",
      "<http://dbpedia.org/resource/Jürg_Jenatsch> ns2:type schema1:Person ;\n",
      "    ns1:deathDate \"1639-01-24\" ;\n",
      "    ns1:deathPlace <http://dbpedia.org/resource/Chur> ;\n",
      "    ns1:relatedTo \"Bündner Wirren\" .\n",
      "\n",
      "\n"
     ]
    }
   ],
   "source": [
    "print(g.serialize(format=\"turtle\"))"
   ]
  },
  {
   "cell_type": "code",
   "execution_count": 58,
   "id": "0c9d5cd8-86f9-40fe-97be-b244b3b8a43b",
   "metadata": {},
   "outputs": [
    {
     "name": "stdout",
     "output_type": "stream",
     "text": [
      "(rdflib.term.URIRef('http://dbpedia.org/resource/Jürg_Jenatsch'), rdflib.term.URIRef('http://dbpedia.org/resource/Chur'), rdflib.term.URIRef('schema:deathPlace'))\n",
      "(rdflib.term.URIRef('http://portacultura.gr.ch/records/RMC-125486'), rdflib.term.Literal('Die Ermordung des Georg (Jörg, Jürg) Jenatsch'), rdflib.term.URIRef('schema:name'))\n",
      "(rdflib.term.URIRef('http://portacultura.gr.ch/records/RMC-125486'), rdflib.term.URIRef('http://dbpedia.org/resource/Jürg_Jenatsch'), rdflib.term.URIRef('schema:about'))\n",
      "(rdflib.term.URIRef('http://portacultura.gr.ch/records/RMC-125486'), rdflib.term.URIRef('http://schema.org/CreativeWork'), rdflib.term.URIRef('rdf:type'))\n",
      "(rdflib.term.URIRef('http://dbpedia.org/resource/Jürg_Jenatsch'), rdflib.term.Literal('1639-01-24'), rdflib.term.URIRef('schema:deathDate'))\n",
      "(rdflib.term.URIRef('http://dbpedia.org/resource/Jürg_Jenatsch'), rdflib.term.Literal('Bündner Wirren'), rdflib.term.URIRef('schema:relatedTo'))\n",
      "(rdflib.term.URIRef('http://portacultura.gr.ch/records/RMC-125486'), rdflib.term.Literal('Bong 17 R.'), rdflib.term.URIRef('schema:creator'))\n",
      "(rdflib.term.URIRef('http://dbpedia.org/resource/Jürg_Jenatsch'), rdflib.term.URIRef('http://schema.org/Person'), rdflib.term.URIRef('rdf:type'))\n",
      "(rdflib.term.URIRef('http://portacultura.gr.ch/records/RMC-125486'), rdflib.term.Literal('Holzstich auf Papier'), rdflib.term.URIRef('schema:material'))\n"
     ]
    }
   ],
   "source": [
    "query = \"\"\"\n",
    "    SELECT *\n",
    "    WHERE {\n",
    "        ?s ?p ?o.\n",
    "    }\n",
    "\"\"\"\n",
    "results = g.query(query)\n",
    "for row in results:\n",
    "    print(row)"
   ]
  },
  {
   "cell_type": "markdown",
   "id": "f08b9b56-48ae-444e-b2bd-a482384c5140",
   "metadata": {},
   "source": [
    "# Partially working query:"
   ]
  },
  {
   "cell_type": "code",
   "execution_count": 66,
   "id": "5cf1ddae-e97e-4ef8-9430-de9fce1390a0",
   "metadata": {},
   "outputs": [
    {
     "name": "stdout",
     "output_type": "stream",
     "text": [
      "(rdflib.term.URIRef('http://portacultura.gr.ch/records/RMC-125486'),)\n"
     ]
    }
   ],
   "source": [
    "query = \"\"\"\n",
    "    PREFIX ns1: <schema:> \n",
    "    PREFIX ns2: <rdf:>\n",
    "    PREFIX schema1: <http://schema.org/> \n",
    "    SELECT ?subject \n",
    "    WHERE {\n",
    "        ?subject ns2:type schema1:CreativeWork .\n",
    "    \n",
    "    }\n",
    "\"\"\"\n",
    "results = g.query(query)\n",
    "for row in results:\n",
    "    print(row)"
   ]
  },
  {
   "cell_type": "code",
   "execution_count": 68,
   "id": "a511b3e1-7db2-4040-a582-5f008bf88ca1",
   "metadata": {},
   "outputs": [
    {
     "name": "stdout",
     "output_type": "stream",
     "text": [
      "(rdflib.term.URIRef('http://dbpedia.org/resource/Jürg_Jenatsch'),)\n"
     ]
    }
   ],
   "source": [
    "query = \"\"\"\n",
    "    PREFIX ns1: <schema:> \n",
    "    PREFIX ns2: <rdf:>\n",
    "    PREFIX schema1: <http://schema.org/> \n",
    "    SELECT ?subject\n",
    "    WHERE {\n",
    "        ?subject ns1:relatedTo \"Bündner Wirren\" .\n",
    "\n",
    "    \n",
    "    }\n",
    "\"\"\"\n",
    "results = g.query(query)\n",
    "for row in results:\n",
    "    print(row)"
   ]
  },
  {
   "cell_type": "code",
   "execution_count": 70,
   "id": "46c155de-c029-4501-87a6-a737aecbc26b",
   "metadata": {},
   "outputs": [
    {
     "name": "stdout",
     "output_type": "stream",
     "text": [
      "(rdflib.term.URIRef('http://dbpedia.org/resource/Jürg_Jenatsch'), rdflib.term.Literal('Bündner Wirren'))\n"
     ]
    }
   ],
   "source": [
    "query = \"\"\"\n",
    "    PREFIX ns1: <schema:> \n",
    "    PREFIX ns2: <rdf:>\n",
    "    PREFIX schema1: <http://schema.org/> \n",
    "    SELECT ?subject ?object\n",
    "    WHERE {\n",
    "        ?subject ns1:relatedTo ?object .\n",
    "\n",
    "    \n",
    "    }\n",
    "\"\"\"\n",
    "results = g.query(query)\n",
    "for row in results:\n",
    "    print(row)"
   ]
  },
  {
   "cell_type": "markdown",
   "id": "92ca3934-a1ef-4843-a947-1d55cc5d1580",
   "metadata": {},
   "source": [
    "# Not working queries: "
   ]
  },
  {
   "cell_type": "code",
   "execution_count": 52,
   "id": "bf146155-c86d-4e0c-9942-815cacb31c82",
   "metadata": {},
   "outputs": [],
   "source": [
    "query = \"\"\"\n",
    "    PREFIX ns1: <http://www.w3.org/1999/02/22-rdf-syntax-ns#>\n",
    "    PREFIX schema1: <http://schema.org/> \n",
    "\n",
    "    SELECT ?subject\n",
    "    WHERE {\n",
    "        ?subject ns1:type schema1:CreativeWork .\n",
    "    }\n",
    "\"\"\"\n",
    "results = g.query(query)\n",
    "for row in results:\n",
    "    print(row)"
   ]
  },
  {
   "cell_type": "code",
   "execution_count": 42,
   "id": "03429b0c-71ae-49ba-84e0-f2c9eaa1fb6e",
   "metadata": {},
   "outputs": [
    {
     "name": "stdout",
     "output_type": "stream",
     "text": [
      "CreativeWorks and their names:\n",
      "\n",
      "People and their properties:\n"
     ]
    }
   ],
   "source": [
    "from rdflib import Graph\n",
    "\n",
    "# Load the RDF graph\n",
    "g = Graph()\n",
    "g.parse(\"public_dataset.ttl\", format=\"turtle\")\n",
    "\n",
    "# Example query: Retrieve all CreativeWorks and their names\n",
    "query1 = \"\"\"\n",
    "    SELECT ?subject ?name\n",
    "    WHERE {\n",
    "        ?subject rdf:type schema:CreativeWork .\n",
    "        ?subject schema:name ?name .\n",
    "    }\n",
    "\"\"\"\n",
    "\n",
    "# Run the query\n",
    "results = g.query(query1)\n",
    "\n",
    "# Display results\n",
    "print(\"CreativeWorks and their names:\")\n",
    "for row in results:\n",
    "    print(f\"Subject: {row.subject}, Name: {row.name}\")\n",
    "\n",
    "# Additional query: Retrieve all people and their related information\n",
    "query2 = \"\"\"\n",
    "    SELECT ?person ?property ?value\n",
    "    WHERE {\n",
    "        ?person rdf:type schema:Person .\n",
    "        ?person ?property ?value .\n",
    "    }\n",
    "\"\"\"\n",
    "\n",
    "results = g.query(query2)\n",
    "\n",
    "print(\"\\nPeople and their properties:\")\n",
    "for row in results:\n",
    "    print(f\"Person: {row.person}, Property: {row.property}, Value: {row.value}\")\n"
   ]
  }
 ],
 "metadata": {
  "kernelspec": {
   "display_name": "Python 3 (ipykernel)",
   "language": "python",
   "name": "python3"
  },
  "language_info": {
   "codemirror_mode": {
    "name": "ipython",
    "version": 3
   },
   "file_extension": ".py",
   "mimetype": "text/x-python",
   "name": "python",
   "nbconvert_exporter": "python",
   "pygments_lexer": "ipython3",
   "version": "3.12.5"
  }
 },
 "nbformat": 4,
 "nbformat_minor": 5
}
